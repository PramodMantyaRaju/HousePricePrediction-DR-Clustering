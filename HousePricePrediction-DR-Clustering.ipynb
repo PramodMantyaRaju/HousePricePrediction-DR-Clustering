{
 "cells": [
  {
   "cell_type": "markdown",
   "metadata": {},
   "source": [
    "# DS 862 — Project 1"
   ]
  },
  {
   "cell_type": "markdown",
   "metadata": {},
   "source": [
    "1. Dhara Parmanand Khubchandani\n",
    "2. Sai Naga Sumalya Patnala \n",
    "3. Pramod Mantya Raju"
   ]
  },
  {
   "cell_type": "markdown",
   "metadata": {},
   "source": [
    "# Part I: Dimension Reduction"
   ]
  },
  {
   "cell_type": "markdown",
   "metadata": {},
   "source": [
    "# Importing the Neccessary Library files"
   ]
  },
  {
   "cell_type": "markdown",
   "metadata": {},
   "source": [
    "This line of code imports various Python libraries and modules that are used throughout the script"
   ]
  },
  {
   "cell_type": "code",
   "execution_count": 1,
   "metadata": {
    "id": "LqHD1gDZD9Gn"
   },
   "outputs": [],
   "source": [
    "import numpy as np\n",
    "import pandas as pd\n",
    "from sklearn.model_selection import train_test_split\n",
    "from sklearn.preprocessing import StandardScaler\n",
    "from sklearn.linear_model import Ridge\n",
    "from prince import MCA\n",
    "from sklearn.decomposition import PCA\n",
    "from sklearn.metrics import mean_squared_error\n",
    "from sklearn.model_selection import GridSearchCV"
   ]
  },
  {
   "cell_type": "markdown",
   "metadata": {},
   "source": [
    "# Data Loading and Preprocessing:"
   ]
  },
  {
   "cell_type": "markdown",
   "metadata": {},
   "source": [
    "The below segment loads the dataset from a CSV file named 'train.csv' and performs basic preprocessing steps such as dropping irrelevant columns ('Id') and removing rows with missing values."
   ]
  },
  {
   "cell_type": "code",
   "execution_count": 2,
   "metadata": {
    "id": "-5F0ROq0D9Gp"
   },
   "outputs": [],
   "source": [
    "# Load data set\n",
    "data = pd.read_csv('train.csv')\n",
    "data = data.drop('Id', axis = 1)\n",
    "\n",
    "# Remove columns that have too many missing values\n",
    "data = data.drop(data.columns[data.isnull().sum() > 30], axis = 1)\n",
    "\n",
    "# Remove missing values\n",
    "data.dropna(inplace = True)\n",
    "\n",
    "# Separate features and target\n",
    "X = data.drop(columns=['SalePrice'])  # Features\n",
    "y = data['SalePrice']  # Target"
   ]
  },
  {
   "cell_type": "markdown",
   "metadata": {},
   "source": [
    "# Feature Engineering:"
   ]
  },
  {
   "cell_type": "markdown",
   "metadata": {},
   "source": [
    "Here, the dataset is divided into numerical and categorical features, which is a common practice in machine learning pipelines. Numerical features typically contain quantitative data, while categorical features contain qualitative data."
   ]
  },
  {
   "cell_type": "code",
   "execution_count": 3,
   "metadata": {},
   "outputs": [],
   "source": [
    "# Separate numerical and categorical columns\n",
    "numerical_cols = X.select_dtypes(include=['int64', 'float64']).columns\n",
    "categorical_cols = X.select_dtypes(include=['object']).columns\n"
   ]
  },
  {
   "cell_type": "markdown",
   "metadata": {},
   "source": [
    "# Train-Test Split:"
   ]
  },
  {
   "cell_type": "markdown",
   "metadata": {},
   "source": [
    "The dataset is split into training and testing sets using train_test_split function. This ensures that the model's performance can be evaluated on unseen data, helping to assess its generalization ability."
   ]
  },
  {
   "cell_type": "code",
   "execution_count": 4,
   "metadata": {},
   "outputs": [],
   "source": [
    "# Split numerical and categorical features\n",
    "X_numerical = X[numerical_cols]\n",
    "X_categorical = X[categorical_cols]\n",
    "\n",
    "# Split the numerical features into train and test sets\n",
    "X_train_num, X_test_num, y_train, y_test = train_test_split(X_numerical, y, test_size=0.2, random_state=42)\n",
    "\n",
    "# Split the categorical features into train and test sets\n",
    "X_train_cat, X_test_cat = train_test_split(X_categorical, test_size=0.2, random_state=42)\n"
   ]
  },
  {
   "cell_type": "markdown",
   "metadata": {},
   "source": [
    "# Filtering and Synchronizing Categorical Features:"
   ]
  },
  {
   "cell_type": "markdown",
   "metadata": {},
   "source": [
    "This segment ensures that the categorical features between the training and testing sets are compatible. It filters the categorical features to keep only those with the same number of unique levels and ensures that categorical features with the same levels have the same classes."
   ]
  },
  {
   "cell_type": "code",
   "execution_count": 5,
   "metadata": {},
   "outputs": [],
   "source": [
    "'''\n",
    "This is the script you can use to check the categorical features between training and testing sets.\n",
    "You can apply this code after you can done the train/test split, as well as separation of numerical\n",
    "and categorical features.\n",
    "'''\n",
    "\n",
    "# Filter categorical features based on the number of levels\n",
    "keep = X_train_cat.nunique() == X_test_cat.nunique()\n",
    "X_train_cat = X_train_cat[X_train_cat.columns[keep]]\n",
    "X_test_cat = X_test_cat[X_test_cat.columns[keep]]\n",
    "\n",
    "# Ensure the classes are the same for categorical features with the same levels\n",
    "keep = []\n",
    "for i in range(X_train_cat.shape[1]):\n",
    "    keep.append(all(np.sort(X_train_cat.iloc[:,i].unique()) == np.sort(X_test_cat.iloc[:,i].unique())))\n",
    "X_train_cat = X_train_cat[X_train_cat.columns[keep]]\n",
    "X_test_cat = X_test_cat[X_test_cat.columns[keep]]"
   ]
  },
  {
   "cell_type": "markdown",
   "metadata": {},
   "source": [
    "# Dimensionality Reduction:"
   ]
  },
  {
   "cell_type": "markdown",
   "metadata": {},
   "source": [
    "Principal Component Analysis (PCA) is applied to reduce the dimensionality of numerical features. It projects the original numerical features into a lower-dimensional space while retaining most of the variance.\n",
    "\n",
    "Multiple Correspondence Analysis (MCA) is applied to categorical features for dimensionality reduction. It is a method used for categorical data analysis, similar to PCA but adapted for categorical variables."
   ]
  },
  {
   "cell_type": "code",
   "execution_count": 6,
   "metadata": {},
   "outputs": [],
   "source": [
    "# Apply PCA on numerical features\n",
    "pca = PCA()\n",
    "X_train_pca = pca.fit_transform(X_train_num)\n",
    "X_test_pca = pca.transform(X_test_num)\n",
    "\n",
    "# Apply MCA on common categorical features\n",
    "mca = MCA()\n",
    "X_train_mca = mca.fit_transform(X_train_cat)\n",
    "X_test_mca = mca.transform(X_test_cat)"
   ]
  },
  {
   "cell_type": "markdown",
   "metadata": {},
   "source": [
    "# Regression with Reduced Features:"
   ]
  },
  {
   "cell_type": "markdown",
   "metadata": {},
   "source": [
    "Ridge regression is performed separately on the reduced numerical features obtained from PCA and the reduced categorical features obtained from MCA. Ridge regression is a linear regression technique that incorporates regularization to prevent overfitting."
   ]
  },
  {
   "cell_type": "code",
   "execution_count": 7,
   "metadata": {},
   "outputs": [
    {
     "name": "stdout",
     "output_type": "stream",
     "text": [
      "MSE using PCA: 770952426.4747194\n",
      "MSE using MCA: 3129598717.1076517\n"
     ]
    }
   ],
   "source": [
    "# Regression using the reduced features\n",
    "ridge = Ridge(alpha=0.10)\n",
    "ridge.fit(X_train_pca, y_train)\n",
    "y_pred_pca = ridge.predict(X_test_pca)\n",
    "mse_pca = mean_squared_error(y_test, y_pred_pca)\n",
    "\n",
    "ridge.fit(X_train_mca, y_train)\n",
    "y_pred_mca = ridge.predict(X_test_mca)\n",
    "mse_mca = mean_squared_error(y_test, y_pred_mca)\n",
    "\n",
    "print(\"MSE using PCA:\", mse_pca)\n",
    "print(\"MSE using MCA:\", mse_mca)"
   ]
  },
  {
   "cell_type": "markdown",
   "metadata": {},
   "source": [
    "The Mean Squared Error (MSE) is a metric used to assess the performance of regression models. It determines the average squared difference between expected and actual values in a dataset. \n",
    "\n",
    "The lower the MSE, the better the model performs. In this case, the model employing Principal Component Analysis (PCA) has a considerably lower MSE than the model using Multiple Correspondence Analysis (MCA). This shows that the PCA-based model outperforms the MCA-based model in terms of predictions and data fit. \n",
    "\n",
    "\n",
    "\n"
   ]
  },
  {
   "cell_type": "markdown",
   "metadata": {},
   "source": [
    "# Hyperparameter Tuning with Grid Search:"
   ]
  },
  {
   "cell_type": "markdown",
   "metadata": {},
   "source": [
    "In the below Segement, the grid search with cross-validation is employed to find the optimal hyperparameters for the Ridge regression model. It systematically searches through a predefined grid of hyperparameters and selects the best combination based on cross-validated performance."
   ]
  },
  {
   "cell_type": "code",
   "execution_count": 8,
   "metadata": {},
   "outputs": [
    {
     "data": {
      "text/plain": [
       "GridSearchCV(cv=5, estimator=Ridge(), param_grid={'alpha': [10.0, 50.0, 150.0]},\n",
       "             scoring='neg_mean_squared_error')"
      ]
     },
     "execution_count": 8,
     "metadata": {},
     "output_type": "execute_result"
    }
   ],
   "source": [
    "# Define a range of alpha values to tune\n",
    "alphas = [10.0, 50.0, 150.0]  # You can adjust the range as needed\n",
    "\n",
    "# Create a dictionary with hyperparameters to tune\n",
    "param_grid = {'alpha': alphas}\n",
    "\n",
    "# Initialize the Ridge regression model\n",
    "ridge = Ridge()\n",
    "\n",
    "# Perform Grid Search with cross-validation\n",
    "grid_search = GridSearchCV(ridge, param_grid, cv=5, scoring='neg_mean_squared_error')\n",
    "grid_search.fit(X_train_pca, y_train)  # Assuming X_train_pca is the PCA-transformed numerical features"
   ]
  },
  {
   "cell_type": "markdown",
   "metadata": {},
   "source": [
    "# Reapplying on Combined Training and Validation Sets:"
   ]
  },
  {
   "cell_type": "markdown",
   "metadata": {},
   "source": [
    "This step combines the training and validation sets to increase the amount of data available for training. PCA and MCA are reapplied to this combined dataset to ensure consistency in dimensionality reduction."
   ]
  },
  {
   "cell_type": "code",
   "execution_count": 9,
   "metadata": {},
   "outputs": [
    {
     "data": {
      "text/plain": [
       "GridSearchCV(cv=5, estimator=Ridge(), param_grid={'alpha': [10.0, 50.0, 150.0]},\n",
       "             scoring='neg_mean_squared_error')"
      ]
     },
     "execution_count": 9,
     "metadata": {},
     "output_type": "execute_result"
    }
   ],
   "source": [
    "# Combine training and validation sets\n",
    "X_train_val_num = pd.concat([X_train_num, X_test_num])\n",
    "y_train_val = pd.concat([y_train, y_test])\n",
    "X_train_val_common_cat = pd.concat([X_train_cat, X_test_cat])\n",
    "\n",
    "# Apply PCA on combined numerical features\n",
    "X_train_val_pca = pca.fit_transform(X_train_val_num)\n",
    "\n",
    "# Apply MCA on combined common categorical features\n",
    "X_train_val_mca = mca.fit_transform(X_train_val_common_cat)\n",
    "\n",
    "# Perform Grid Search with cross-validation on combined numerical features\n",
    "grid_search.fit(X_train_val_pca, y_train_val)"
   ]
  },
  {
   "cell_type": "markdown",
   "metadata": {},
   "source": [
    "# Fitting the Final Model:"
   ]
  },
  {
   "cell_type": "markdown",
   "metadata": {},
   "source": [
    "The best performing model obtained from grid search is fitted on the combined training and validation sets. This model is expected to have the most optimal hyperparameters."
   ]
  },
  {
   "cell_type": "code",
   "execution_count": 10,
   "metadata": {},
   "outputs": [
    {
     "data": {
      "text/plain": [
       "Ridge(alpha=50.0)"
      ]
     },
     "execution_count": 10,
     "metadata": {},
     "output_type": "execute_result"
    }
   ],
   "source": [
    "# Get best hyperparameters and best estimator\n",
    "best_alpha = grid_search.best_params_['alpha']\n",
    "best_estimator = grid_search.best_estimator_\n",
    "\n",
    "# Fit the best estimator on the combined training and validation data\n",
    "best_estimator.fit(X_train_val_pca, y_train_val)"
   ]
  },
  {
   "cell_type": "markdown",
   "metadata": {},
   "source": [
    "# Final Prediction and Evaluation:"
   ]
  },
  {
   "cell_type": "markdown",
   "metadata": {},
   "source": [
    "Finally, the model's performance is evaluated on the test set by making predictions using the final model and calculating the Mean Squared Error (MSE) and Root Mean Squared Error (RMSE). These metrics quantify the difference between the predicted and actual values, providing insights into the model's accuracy."
   ]
  },
  {
   "cell_type": "code",
   "execution_count": 11,
   "metadata": {},
   "outputs": [
    {
     "name": "stdout",
     "output_type": "stream",
     "text": [
      "MSE using final model on test set: 700982211.098449\n",
      "RMSE using final model on test set: 26476.06864884681\n"
     ]
    }
   ],
   "source": [
    "# Apply PCA on test numerical features\n",
    "X_test_pca_final = pca.transform(X_test_num)\n",
    "\n",
    "# Apply MCA on test common categorical features\n",
    "X_test_mca_final = mca.transform(X_test_cat)\n",
    "\n",
    "# Predict on the test set using the final model\n",
    "y_pred_final = best_estimator.predict(X_test_pca_final)\n",
    "mse_final = mean_squared_error(y_test, y_pred_final)\n",
    "print(\"MSE using final model on test set:\", mse_final)\n",
    "\n",
    "# Calculate RMSE\n",
    "rmse_final = np.sqrt(mse_final)\n",
    "print(\"RMSE using final model on test set:\", rmse_final)"
   ]
  },
  {
   "cell_type": "markdown",
   "metadata": {},
   "source": [
    "\n",
    "\n",
    "MSE represents the average squared difference between the actual and predicted values in the test set. In this case, the MSE is approximately 700,982,211. This means, on average, the squared difference between the actual and predicted values in the test set is around 700,982,211. Lower values of MSE indicate better model performance, so the provided MSE suggests that the final model performs reasonably well in predicting the target variable.\n",
    "\n",
    "\n",
    "RMSE is the square root of the MSE and provides a measure of the average deviation of the predicted values from the actual values in the same units as the target variable. In this case, the RMSE is approximately 26,476. This means, on average, the difference between the actual and predicted values in the test set is around 26,476 units of the target variable. Lower RMSE values indicate better model performance.\n",
    "\n",
    "In summary, the model performs reasonably well on the test set, with an MSE of approximately 700,982,211 and an RMSE of approximately 26,476."
   ]
  },
  {
   "cell_type": "markdown",
   "metadata": {},
   "source": [
    "# Part II: Clustering Analysis"
   ]
  },
  {
   "cell_type": "markdown",
   "metadata": {},
   "source": [
    "# Import Necessary Libraries:"
   ]
  },
  {
   "cell_type": "code",
   "execution_count": 12,
   "metadata": {},
   "outputs": [],
   "source": [
    "import gower\n",
    "from pyclustering.cluster.kmedoids import kmedoids\n",
    "from sklearn.metrics import normalized_mutual_info_score\n",
    "import random\n",
    "import matplotlib.pyplot as plt"
   ]
  },
  {
   "cell_type": "markdown",
   "metadata": {},
   "source": [
    "**gower:** This library provides functions for computing the Gower distance, which is a measure of dissimilarity between data points with mixed data types.\n",
    "\n",
    "**kmedoids from pyclustering.cluster:** This library provides an implementation of the K-medoids clustering algorithm, which is suitable for clustering data with arbitrary distance measures.\n",
    "\n",
    "**random:** This library is used for generating random numbers, which is useful for selecting initial medoids in K-medoids clustering.\n",
    "\n",
    "**Matplotlib** library and allows you to use the plt namespace to create plots"
   ]
  },
  {
   "cell_type": "markdown",
   "metadata": {},
   "source": [
    "# Compute the Gower Distance:"
   ]
  },
  {
   "cell_type": "markdown",
   "metadata": {},
   "source": [
    "This segment concatenates the numerical and categorical features into a single dataset (X_full). The Gower distance matrix is then computed using the concatenated dataset. The rationale behind this is to prepare the data for clustering by computing a distance matrix that accounts for the mixed data types (numerical and categorical)."
   ]
  },
  {
   "cell_type": "code",
   "execution_count": 13,
   "metadata": {},
   "outputs": [],
   "source": [
    "# Concatenate numerical and categorical features\n",
    "X_full = pd.concat([X_numerical, X_categorical], axis=1)\n",
    "\n",
    "# Compute Gower distance matrix\n",
    "gower_dist = gower.gower_matrix(X_full)"
   ]
  },
  {
   "cell_type": "markdown",
   "metadata": {},
   "source": [
    "# Apply K-medoids Clustering:"
   ]
  },
  {
   "cell_type": "markdown",
   "metadata": {},
   "source": [
    "This segment applies the K-medoids clustering algorithm to the dataset with the Gower distance matrix. The algorithm requires specifying the number of clusters and the number of initial medoids. Random initial medoids are selected to start the clustering process. The rationale behind using K-medoids clustering is to partition the dataset into clusters based on the dissimilarity calculated by the Gower distance, with medoids representing the most central points in each cluster."
   ]
  },
  {
   "cell_type": "code",
   "execution_count": 14,
   "metadata": {},
   "outputs": [
    {
     "name": "stdout",
     "output_type": "stream",
     "text": [
      "Cluster 1:\n",
      "Indices of data points in the cluster: [2, 4, 6, 13, 18, 22, 25, 27, 32, 34, 36, 45, 47, 53, 60, 62, 64, 67, 70, 81, 82, 89, 96, 100, 103, 109, 123, 133, 135, 137, 138, 141, 143, 148, 151, 162, 166, 169, 174, 178, 186, 189, 192, 196, 199, 200, 203, 211, 213, 216, 219, 220, 224, 229, 235, 237, 239, 250, 256, 275, 277, 280, 281, 282, 283, 301, 304, 308, 325, 331, 332, 335, 336, 337, 342, 346, 349, 350, 354, 355, 361, 368, 375, 377, 380, 384, 387, 398, 399, 400, 404, 411, 419, 420, 425, 427, 428, 439, 442, 445, 450, 456, 464, 467, 469, 471, 472, 473, 475, 477, 479, 480, 482, 495, 497, 506, 510, 514, 528, 537, 538, 540, 550, 557, 565, 575, 578, 579, 583, 591, 593, 595, 596, 602, 604, 608, 610, 616, 629, 637, 638, 642, 651, 653, 658, 661, 664, 670, 674, 675, 679, 680, 685, 686, 687, 692, 696, 697, 701, 703, 704, 709, 715, 717, 718, 721, 723, 724, 727, 728, 739, 741, 745, 749, 762, 765, 771, 772, 773, 777, 779, 780, 787, 790, 802, 808, 812, 814, 816, 821, 822, 824, 829, 835, 847, 848, 861, 863, 876, 882, 885, 895, 900, 903, 920, 922, 925, 927, 929, 930, 931, 943, 954, 957, 959, 976, 981, 988, 993, 996, 997, 998, 1002, 1010, 1011, 1013, 1014, 1015, 1017, 1018, 1021, 1027, 1030, 1036, 1038, 1041, 1045, 1048, 1050, 1054, 1068, 1072, 1074, 1076, 1079, 1089, 1100, 1103, 1109, 1111, 1115, 1120, 1121, 1132, 1140, 1146, 1149, 1151, 1152, 1155, 1159, 1160, 1175, 1181, 1187, 1192, 1197, 1199, 1201, 1203, 1211, 1221, 1222, 1233, 1234, 1235, 1244, 1249, 1251, 1257, 1260, 1263, 1266, 1270, 1272, 1273, 1280, 1289, 1295, 1297, 1298, 1299, 1301, 1302, 1303, 1308, 1310, 1316, 1319, 1322, 1333, 1339, 1340, 1345, 1347, 1351, 1353, 1358, 1360, 1361, 1365, 1367, 1379, 1381, 1385, 1393, 1394, 1396, 1404, 1406, 1410, 1413, 1416, 1417, 1420, 1426, 1428, 1432, 1435, 1438, 1442, 1443, 1445]\n",
      "Medoid: 602\n",
      "Cluster 2:\n",
      "Indices of data points in the cluster: [0, 3, 5, 7, 11, 20, 35, 46, 50, 56, 57, 58, 65, 72, 80, 84, 85, 86, 87, 94, 95, 101, 105, 111, 112, 114, 115, 117, 118, 119, 131, 139, 145, 147, 152, 157, 158, 159, 161, 167, 168, 172, 176, 180, 183, 185, 190, 191, 193, 197, 208, 212, 218, 221, 226, 231, 236, 243, 247, 248, 251, 254, 255, 257, 260, 265, 266, 269, 271, 274, 278, 279, 284, 289, 290, 292, 296, 300, 303, 305, 309, 313, 314, 315, 316, 317, 319, 320, 321, 323, 327, 333, 339, 347, 348, 358, 359, 363, 369, 373, 376, 378, 381, 383, 388, 390, 402, 403, 407, 408, 413, 414, 422, 432, 434, 443, 446, 451, 452, 457, 459, 460, 468, 476, 481, 491, 500, 505, 507, 516, 517, 518, 522, 523, 524, 526, 529, 532, 534, 539, 542, 543, 547, 552, 556, 562, 564, 566, 570, 571, 576, 581, 588, 589, 598, 600, 601, 606, 614, 617, 621, 622, 626, 633, 639, 640, 649, 662, 667, 681, 682, 683, 684, 688, 689, 699, 700, 705, 711, 713, 729, 734, 736, 742, 743, 744, 748, 750, 753, 754, 756, 759, 760, 761, 764, 766, 778, 784, 786, 789, 791, 795, 797, 799, 800, 804, 817, 819, 825, 826, 828, 838, 843, 846, 854, 856, 857, 866, 868, 872, 874, 878, 879, 899, 904, 906, 911, 915, 917, 919, 923, 926, 933, 934, 937, 944, 949, 955, 960, 961, 967, 969, 970, 975, 977, 982, 983, 984, 985, 986, 987, 1006, 1009, 1012, 1024, 1025, 1026, 1031, 1035, 1037, 1040, 1044, 1051, 1052, 1059, 1060, 1078, 1081, 1082, 1083, 1085, 1090, 1091, 1099, 1101, 1102, 1104, 1110, 1118, 1122, 1127, 1128, 1135, 1136, 1143, 1148, 1153, 1158, 1161, 1162, 1163, 1166, 1169, 1174, 1176, 1182, 1183, 1185, 1186, 1189, 1190, 1195, 1204, 1205, 1218, 1220, 1224, 1230, 1231, 1232, 1237, 1238, 1239, 1246, 1247, 1253, 1258, 1261, 1267, 1276, 1281, 1285, 1290, 1292, 1294, 1296, 1304, 1305, 1309, 1314, 1321, 1330, 1334, 1336, 1346, 1350, 1352, 1354, 1355, 1356, 1357, 1364, 1366, 1373, 1377, 1386, 1390, 1392, 1400, 1401, 1405, 1408, 1414, 1421, 1424, 1433, 1446, 1448]\n",
      "Medoid: 168\n",
      "Cluster 3:\n",
      "Indices of data points in the cluster: [1, 8, 9, 10, 12, 14, 15, 16, 17, 19, 21, 23, 24, 26, 28, 29, 30, 31, 33, 37, 38, 39, 40, 41, 42, 43, 44, 48, 49, 51, 52, 54, 55, 59, 61, 63, 66, 68, 69, 71, 73, 74, 75, 76, 77, 78, 79, 83, 88, 90, 91, 92, 93, 97, 98, 99, 102, 104, 106, 107, 108, 110, 113, 116, 120, 121, 122, 124, 125, 126, 127, 128, 129, 130, 132, 134, 136, 140, 142, 144, 146, 149, 150, 153, 154, 155, 156, 160, 163, 164, 165, 170, 171, 173, 175, 177, 179, 181, 182, 184, 187, 188, 194, 195, 198, 201, 202, 204, 205, 206, 207, 209, 210, 214, 215, 217, 222, 223, 225, 227, 228, 230, 232, 233, 234, 238, 240, 241, 242, 244, 245, 246, 249, 252, 253, 258, 259, 261, 262, 263, 264, 267, 268, 270, 272, 273, 276, 285, 286, 287, 288, 291, 293, 294, 295, 297, 298, 299, 302, 306, 307, 310, 311, 312, 318, 322, 324, 326, 328, 329, 330, 334, 338, 340, 341, 343, 344, 345, 351, 352, 353, 356, 357, 360, 362, 364, 365, 366, 367, 370, 371, 372, 374, 379, 382, 385, 386, 389, 391, 392, 393, 394, 395, 396, 397, 401, 405, 406, 409, 410, 412, 415, 416, 417, 418, 421, 423, 424, 426, 429, 430, 431, 433, 435, 436, 437, 438, 440, 441, 444, 447, 448, 449, 453, 454, 455, 458, 461, 462, 463, 465, 466, 470, 474, 478, 483, 484, 485, 486, 487, 488, 489, 490, 492, 493, 494, 496, 498, 499, 501, 502, 503, 504, 508, 509, 511, 512, 513, 515, 519, 520, 521, 525, 527, 530, 531, 533, 535, 536, 541, 544, 545, 546, 548, 549, 551, 553, 554, 555, 558, 559, 560, 561, 563, 567, 568, 569, 572, 573, 574, 577, 580, 582, 584, 585, 586, 587, 590, 592, 594, 597, 599, 603, 605, 607, 609, 611, 612, 613, 615, 618, 619, 620, 623, 624, 625, 627, 628, 630, 631, 632, 634, 635, 636, 641, 643, 644, 645, 646, 647, 648, 650, 652, 654, 655, 656, 657, 659, 660, 663, 665, 666, 668, 669, 671, 672, 673, 676, 677, 678, 690, 691, 693, 694, 695, 698, 702, 706, 707, 708, 710, 712, 714, 716, 719, 720, 722, 725, 726, 730, 731, 732, 733, 735, 737, 738, 740, 746, 747, 751, 752, 755, 757, 758, 763, 767, 768, 769, 770, 774, 775, 776, 781, 782, 783, 785, 788, 792, 793, 794, 796, 798, 801, 803, 805, 806, 807, 809, 810, 811, 813, 815, 818, 820, 823, 827, 830, 831, 832, 833, 834, 836, 837, 839, 840, 841, 842, 844, 845, 849, 850, 851, 852, 853, 855, 858, 859, 860, 862, 864, 865, 867, 869, 870, 871, 873, 875, 877, 880, 881, 883, 884, 886, 887, 888, 889, 890, 891, 892, 893, 894, 896, 897, 898, 901, 902, 905, 907, 908, 909, 910, 912, 913, 914, 916, 918, 921, 924, 928, 932, 935, 936, 938, 939, 940, 941, 942, 945, 946, 947, 948, 950, 951, 952, 953, 956, 958, 962, 963, 964, 965, 966, 968, 971, 972, 973, 974, 978, 979, 980, 989, 990, 991, 992, 994, 995, 999, 1000, 1001, 1003, 1004, 1005, 1007, 1008, 1016, 1019, 1020, 1022, 1023, 1028, 1029, 1032, 1033, 1034, 1039, 1042, 1043, 1046, 1047, 1049, 1053, 1055, 1056, 1057, 1058, 1061, 1062, 1063, 1064, 1065, 1066, 1067, 1069, 1070, 1071, 1073, 1075, 1077, 1080, 1084, 1086, 1087, 1088, 1092, 1093, 1094, 1095, 1096, 1097, 1098, 1105, 1106, 1107, 1108, 1112, 1113, 1114, 1116, 1117, 1119, 1123, 1124, 1125, 1126, 1129, 1130, 1131, 1133, 1134, 1137, 1138, 1139, 1141, 1142, 1144, 1145, 1147, 1150, 1154, 1156, 1157, 1164, 1165, 1167, 1168, 1170, 1171, 1172, 1173, 1177, 1178, 1179, 1180, 1184, 1188, 1191, 1193, 1194, 1196, 1198, 1200, 1202, 1206, 1207, 1208, 1209, 1210, 1212, 1213, 1214, 1215, 1216, 1217, 1219, 1223, 1225, 1226, 1227, 1228, 1229, 1236, 1240, 1241, 1242, 1243, 1245, 1248, 1250, 1252, 1254, 1255, 1256, 1259, 1262, 1264, 1265, 1268, 1269, 1271, 1274, 1275, 1277, 1278, 1279, 1282, 1283, 1284, 1286, 1287, 1288, 1291, 1293, 1300, 1306, 1307, 1311, 1312, 1313, 1315, 1317, 1318, 1320, 1323, 1324, 1325, 1326, 1327, 1328, 1329, 1331, 1332, 1335, 1337, 1338, 1341, 1342, 1343, 1344, 1348, 1349, 1359, 1362, 1363, 1368, 1369, 1370, 1371, 1372, 1374, 1375, 1376, 1378, 1380, 1382, 1383, 1384, 1387, 1388, 1389, 1391, 1395, 1397, 1398, 1399, 1402, 1403, 1407, 1409, 1411, 1412, 1415, 1418, 1419, 1422, 1423, 1425, 1427, 1429, 1430, 1431, 1434, 1436, 1437, 1439, 1440, 1441, 1444, 1447, 1449, 1450]\n",
      "Medoid: 1242\n"
     ]
    }
   ],
   "source": [
    "# Define the number of clusters\n",
    "num_clusters = 3  # You may choose any number of clusters\n",
    "\n",
    "# Select random initial medoids\n",
    "num_medoids = 3  # Specify the number of initial medoids\n",
    "initial_index_medoids = random.sample(range(len(gower_dist)), num_medoids)\n",
    "\n",
    "# Initialize K-medoids algorithm with random initial medoids\n",
    "kmedoids_instance = kmedoids(gower_dist, initial_index_medoids=initial_index_medoids, data_type='distance_matrix')\n",
    "\n",
    "# Run K-medoids clustering\n",
    "kmedoids_instance.process()\n",
    "\n",
    "# Get cluster labels and medoids\n",
    "clusters = kmedoids_instance.get_clusters()\n",
    "medoids = kmedoids_instance.get_medoids()\n",
    "\n",
    "# Print cluster labels and medoids\n",
    "for i, cluster in enumerate(clusters):\n",
    "    print(f\"Cluster {i + 1}:\")\n",
    "    print(\"Indices of data points in the cluster:\", cluster)\n",
    "    print(\"Medoid:\", medoids[i])"
   ]
  },
  {
   "cell_type": "markdown",
   "metadata": {},
   "source": [
    "**Interpretetion**\n",
    "\n",
    "Each data point index represents an individual record or observation in the dataset. The medoid of each cluster is the data point that is most centrally located within the cluster according to a specified distance metric.\n",
    "\n",
    "This information provides a breakdown of how the data points are grouped into clusters, aiding in understanding the structure and characteristics of the dataset through the lens of the clustering algorithm."
   ]
  },
  {
   "cell_type": "markdown",
   "metadata": {},
   "source": [
    "# Create an Array of Cluster Memberships:"
   ]
  },
  {
   "cell_type": "markdown",
   "metadata": {},
   "source": [
    "This segment creates an array (cluster_memberships) where each element corresponds to a data point's cluster membership. The rationale is to assign each data point to its respective cluster based on the clustering result obtained from K-medoids."
   ]
  },
  {
   "cell_type": "code",
   "execution_count": 15,
   "metadata": {},
   "outputs": [],
   "source": [
    "cluster_memberships = np.zeros(X_full.shape[0])\n",
    "for cluster_idx, cluster in enumerate(clusters):\n",
    "    cluster_memberships[cluster] = cluster_idx"
   ]
  },
  {
   "cell_type": "markdown",
   "metadata": {},
   "source": [
    "# Bin the Response Variable (SalePrice):"
   ]
  },
  {
   "cell_type": "markdown",
   "metadata": {},
   "source": [
    "This segment bins the response variable (SalePrice) into the same number of categories as clusters. Binning the response variable allows for comparison with cluster labels, facilitating the evaluation of clustering performance using metrics such as normalized mutual information (NMI)."
   ]
  },
  {
   "cell_type": "code",
   "execution_count": 16,
   "metadata": {},
   "outputs": [],
   "source": [
    "num_bins = num_clusters  # Bin into the same number of categories as clusters\n",
    "y_binned = pd.qcut(y, q=num_bins, labels=False, duplicates='drop')"
   ]
  },
  {
   "cell_type": "markdown",
   "metadata": {},
   "source": [
    "# Compute Normalized Mutual Information (NMI):"
   ]
  },
  {
   "cell_type": "markdown",
   "metadata": {},
   "source": [
    "This segment computes the normalized mutual information (NMI) between the clustering result and ground truth (binned SalePrice)."
   ]
  },
  {
   "cell_type": "code",
   "execution_count": 17,
   "metadata": {},
   "outputs": [
    {
     "name": "stdout",
     "output_type": "stream",
     "text": [
      "Normalized Mutual Information (NMI) between clustering result and ground truth: 0.28863032518077514\n"
     ]
    }
   ],
   "source": [
    "nmi_score = normalized_mutual_info_score(y_binned, cluster_memberships)\n",
    "print(\"Normalized Mutual Information (NMI) between clustering result and ground truth:\", nmi_score)"
   ]
  },
  {
   "cell_type": "markdown",
   "metadata": {},
   "source": [
    "NMI between clustering result and ground truth: 0.2886\n",
    "NMI measures the similarity between two clusterings. In this context, it quantifies how well the clusters obtained from the clustering algorithm align with the actual (ground truth) labels.\n",
    "\n",
    "A value closer to 1 indicates strong agreement between the clustering result and the ground truth, while a value close to 0 suggests no agreement beyond chance. In our case, an NMI score of approximately 0.2886 suggests some level of agreement between the clustering result and the ground truth labels, although the agreement might not be very strong."
   ]
  },
  {
   "cell_type": "markdown",
   "metadata": {},
   "source": [
    "# Plot the Clustered Data Points:"
   ]
  },
  {
   "cell_type": "markdown",
   "metadata": {},
   "source": [
    "This segment plots the clustered data points along with the medoids for visualization of the K-medoids clustering result."
   ]
  },
  {
   "cell_type": "code",
   "execution_count": 18,
   "metadata": {},
   "outputs": [
    {
     "data": {
      "image/png": "[encoded data removed]",
      "text/plain": [
       "<Figure size 800x600 with 1 Axes>"
      ]
     },
     "metadata": {},
     "output_type": "display_data"
    }
   ],
   "source": [
    "plt.figure(figsize=(8, 6))\n",
    "for i, cluster in enumerate(clusters):\n",
    "    plt.scatter(X_full.iloc[cluster, 0], X_full.iloc[cluster, 1], label=f'Cluster {i + 1}', alpha=0.5)\n",
    "\n",
    "# Plot the medoids\n",
    "for medoid in medoids:\n",
    "    plt.scatter(X_full.iloc[medoid, 0], X_full.iloc[medoid, 1], marker='x', s=100, c='black', label='Medoid')\n",
    "\n",
    "plt.xlabel('Feature 1')\n",
    "plt.ylabel('Feature 2')\n",
    "plt.title('K-medoids Clustering Result')\n",
    "plt.legend()\n",
    "plt.grid(True)\n",
    "plt.show()"
   ]
  },
  {
   "cell_type": "markdown",
   "metadata": {},
   "source": [
    "**Interpretetion of the Plot**\n",
    "\n",
    "The scatter plot provides a visual representation of the clustering results, revealing the structure and characteristics of the data points within each cluster. Analysis of the plot suggests clear differentiation between clusters, with each cluster exhibiting its own unique pattern and distribution of data points around the respective medoids."
   ]
  }
 ],
 "metadata": {
  "colab": {
   "provenance": []
  },
  "kernelspec": {
   "display_name": "Python 3 (ipykernel)",
   "language": "python",
   "name": "python3"
  },
  "language_info": {
   "codemirror_mode": {
    "name": "ipython",
    "version": 3
   },
   "file_extension": ".py",
   "mimetype": "text/x-python",
   "name": "python",
   "nbconvert_exporter": "python",
   "pygments_lexer": "ipython3",
   "version": "3.9.13"
  }
 },
 "nbformat": 4,
 "nbformat_minor": 1
}
